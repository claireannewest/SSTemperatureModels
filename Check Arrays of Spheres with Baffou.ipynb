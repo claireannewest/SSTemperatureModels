{
 "cells": [
  {
   "cell_type": "code",
   "execution_count": 1,
   "metadata": {},
   "outputs": [],
   "source": [
    "import numpy as np\n",
    "import matplotlib.pyplot as plt\n",
    "\n",
    "import sys\n",
    "# caution: path[0] is reserved for script path (or '' in REPL)\n",
    "sys.path.insert(1, '/Users/clairewest/UIUC/Research/Codes')\n",
    "\n",
    "\n",
    "from temperature_analytics import CalculateTemperatures\n",
    "import random\n",
    "from mpl_toolkits.axes_grid1 import make_axes_locatable\n",
    "from IPython.display import display, Math\n"
   ]
  },
  {
   "cell_type": "markdown",
   "metadata": {},
   "source": [
    "# Verify that my codes match with Baffou\n",
    "They match!! I compared from his 2012 paper with uniform circular illumination and with his recent Anti-Stokes paper with Gaussian illumination. Essentially a perfect match!\n",
    "\n",
    "\n",
    "\n",
    "The following verifies the temperature measured and calculated in Figure 5 of https://doi.org/10.1021/nn401924n."
   ]
  },
  {
   "cell_type": "markdown",
   "metadata": {},
   "source": [
    "### Temperature of a single NP in system"
   ]
  },
  {
   "cell_type": "code",
   "execution_count": 3,
   "metadata": {},
   "outputs": [
    {
     "data": {
      "text/latex": [
       "$\\displaystyle \\Delta T_j = 0.22  \\, ^\\circ \\mathrm C$"
      ],
      "text/plain": [
       "<IPython.core.display.Math object>"
      ]
     },
     "metadata": {},
     "output_type": "display_data"
    }
   ],
   "source": [
    "mean_abs_cross_sect = 810 * (1E-3)**2 # um^2 \n",
    "k_avg = (1.38 + 0.6) / 2 # W / (m K)\n",
    "R = 11.43E-9 # m\n",
    "P0 = 17.9*1E-3 # W\n",
    "D = 24.3*1E-6 # m\n",
    "\n",
    "temp_analy = CalculateTemperatures(abs_cross=mean_abs_cross_sect, \n",
    "                                      kappa=k_avg, \n",
    "                                      radius=R,\n",
    "                                      P0=P0)\n",
    "\n",
    "I0 = temp_analy.intens_at_centerofbeam(which_inten='uni_circular', D=D)\n",
    "P_j = temp_analy.P_j(I0=I0)\n",
    "T_j = temp_analy.T_j_singleNP(P_j=P_j)\n",
    "display(Math(r'\\Delta T_j = {}  \\, ^\\circ \\mathrm C'.format(round(T_j,2)))) "
   ]
  },
  {
   "cell_type": "markdown",
   "metadata": {},
   "source": [
    "### Define NP positions\n",
    "Here the NPs are in a hexagonal array."
   ]
  },
  {
   "cell_type": "code",
   "execution_count": 8,
   "metadata": {
    "scrolled": true
   },
   "outputs": [
    {
     "data": {
      "image/png": "[encoded data removed]",
      "text/plain": [
       "<Figure size 300x300 with 1 Axes>"
      ]
     },
     "metadata": {},
     "output_type": "display_data"
    }
   ],
   "source": [
    "window_size = 150*1E-6  # m\n",
    "interpart_dist =  86*1E-9  # m\n",
    "\n",
    "r, r_cen = temp_analy.hexagonal_array(wind_size=window_size, \n",
    "                                     intpart_dist=interpart_dist)\n",
    "\n",
    "fig, ax = plt.subplots(1,1, figsize=[3,3])\n",
    "ax.scatter(r[:,0]*1E6, r[:,1]*1E6, s=1)\n",
    "# ax.scatter(r[r_cen,0], r[r_cen,1], s=500, c='pink', marker='*')\n",
    "ax.set_xlim([-1, 1]);\n",
    "ax.set_ylim([-1, 1]);\n",
    "ax.set_xlabel('x [$\\mu$m]')\n",
    "ax.set_ylabel('y [$\\mu$m]')\n",
    "ax.set_xticks([-1,0,1]);\n",
    "ax.set_yticks([-1,0,1]);\n",
    "\n",
    "# ax.axis('equal'); "
   ]
  },
  {
   "cell_type": "code",
   "execution_count": 9,
   "metadata": {},
   "outputs": [
    {
     "name": "stdout",
     "output_type": "stream",
     "text": [
      "30.049917223529572 29.83005818101788 0.21985904251169458\n"
     ]
    }
   ],
   "source": [
    "threshold = D \n",
    "\n",
    "# The temperature at the center\n",
    "\n",
    "T_self, T_ext, T_tot = temp_analy.T_tot_at_j(j=r_cen, r=r, which_inten='gauss', gauss_xy0=[0,0], w0=)\n",
    "\n",
    "print(T_tot, np.sum(T_ext), T_self)\n"
   ]
  },
  {
   "cell_type": "code",
   "execution_count": 6,
   "metadata": {},
   "outputs": [
    {
     "name": "stdout",
     "output_type": "stream",
     "text": [
      "T = 29.8 C\n"
     ]
    }
   ],
   "source": [
    "\n",
    "abs_cross = mean_abs_cross_sect*(1E-6)**2\n",
    "I = 4*P0 / (np.pi*(D)**2)\n",
    "p = interpart_dist\n",
    "A = np.sqrt(3) * p**2 / 2\n",
    "\n",
    "T0_ext_infinite = abs_cross * I / k_avg * 1/4 * D / A * (1 - 2*np.sqrt(A)/(np.sqrt(np.pi)*D))\n",
    "\n",
    "print('T =', \"{:.1F}\".format(T0_ext_infinite), \"C\")"
   ]
  },
  {
   "cell_type": "code",
   "execution_count": 7,
   "metadata": {},
   "outputs": [],
   "source": [
    "if len(r) <= 1E4:\n",
    "    \n",
    "    T_tot_atj = np.zeros(num_part)\n",
    "\n",
    "    for j in range(num_part):\n",
    "        rj = r[j,:]\n",
    "        rj_tile = np.tile(rj, (r.shape[0], 1))\n",
    "        rj_minus_rk = np.linalg.norm(r - rj, axis=-1)\n",
    "        rj_minus_rk_jneqk = np.delete(rj_minus_rk, j)\n",
    "\n",
    "        ## Has to be in for loop because 'delete'\n",
    "        weight = np.linalg.norm(r, axis=-1) - threshold\n",
    "        weight[weight>0] = 0\n",
    "        weight[weight<0] = 1\n",
    "\n",
    "        ### Particle due to absorption at j\n",
    "        I0 = 4*P0 / (np.pi*(D)**2) # W / m^2\n",
    "        P_j = mean_abs_cross_sect*(1E-6)**2 * I0\n",
    "        T_j = P_j*weight[j]  / (4 * np.pi * k_avg * R)\n",
    "\n",
    "        ### Particles k neq j\n",
    "        weight = np.delete(weight, j)\n",
    "        P_k = P_j * weight\n",
    "        T_ks = P_k/(4*np.pi*k_avg*rj_minus_rk_jneqk)\n",
    "        T_tot_atj[j] = T_j + np.sum(T_ks)\n",
    "\n",
    "\n",
    "    fig, ax = plt.subplots(1, 1, figsize=[10,10])\n",
    "\n",
    "    im = ax.scatter(X.ravel()*1E6, Y.ravel()*1E6, c=T_tot_atj, s=50, cmap='jet',\n",
    "                   vmin=np.min(T_tot_atj), vmax=np.max(T_tot_atj),\n",
    "                   )\n",
    "    \n",
    "    ax.set_xlabel('$x$ [$\\mu$m]')\n",
    "    ax.set_ylabel('$y$ [$\\mu$m]')\n",
    "\n",
    "    divider = make_axes_locatable(ax)\n",
    "    cax_ij = divider.append_axes(\"right\", size=\"5%\", pad=0.05)\n",
    "    cbarij = plt.colorbar(im, cax=cax_ij,label='$\\Delta T \\,\\,$[$^\\circ$C]')\n"
   ]
  },
  {
   "cell_type": "markdown",
   "metadata": {},
   "source": [
    "## And verify Gaussian illumination works too by checking with Anti-Stokes paper"
   ]
  },
  {
   "cell_type": "code",
   "execution_count": 18,
   "metadata": {},
   "outputs": [
    {
     "data": {
      "image/png": "[encoded data removed]",
      "text/plain": [
       "<Figure size 640x480 with 1 Axes>"
      ]
     },
     "metadata": {},
     "output_type": "display_data"
    }
   ],
   "source": [
    "mean_abs_cross_sect_65 = 3252 * (1E-3)**2 # um^2 \n",
    "mean_abs_cross_sect_100 = 21514 * (1E-3)**2 # um^2 \n",
    "mean_abs_cross_sect_157 = 8473 * (1E-3)**2 # um^2 \n",
    "\n",
    "k_avg = 0.8 # W / (m K)\n",
    "R_65 = 33.24E-9 # m\n",
    "R_100 = 45.77E-9\n",
    "R_157 =  65.39E-9\n",
    "\n",
    "his_intensities = np.array([0, 0.05, 0.1, 0.15]) # mW/um^2\n",
    "his_fwhm = 18 # um\n",
    "powers = his_intensities * np.pi * his_fwhm**2 / (4 * np.log(2)) # mW\n",
    "\n",
    "window_size = 40*1E-6  # m\n",
    "interpart_dist =  350.*1E-9  # m\n",
    "\n",
    "pi = 1\n",
    "for pi in range(4):\n",
    "\n",
    "    temp_analy = CalculateTemperatures(abs_cross=mean_abs_cross_sect_157, \n",
    "                                          kappa=k_avg, \n",
    "                                          radius=R_157,\n",
    "                                          P0=powers[pi]*1E-3)\n",
    "\n",
    "    r, r_cen = temp_analy.hexagonal_array(wind_size=window_size, \n",
    "                                         intpart_dist=interpart_dist)\n",
    "\n",
    "\n",
    "    T_self, T_ext, T_tot = temp_analy.T_tot_at_j(j=r_cen, \n",
    "                                                 r=r, \n",
    "                                                 which_inten='gauss', \n",
    "                                                 gauss_xy0=[0,0], \n",
    "                                                 w0=his_fwhm*1E-6/np.sqrt(2*np.log(2)))\n",
    "    plt.scatter(his_intensities[pi], T_tot, color='tab:blue')"
   ]
  },
  {
   "cell_type": "code",
   "execution_count": null,
   "metadata": {},
   "outputs": [],
   "source": []
  }
 ],
 "metadata": {
  "kernelspec": {
   "display_name": "Python 3 (ipykernel)",
   "language": "python",
   "name": "python3"
  },
  "language_info": {
   "codemirror_mode": {
    "name": "ipython",
    "version": 3
   },
   "file_extension": ".py",
   "mimetype": "text/x-python",
   "name": "python",
   "nbconvert_exporter": "python",
   "pygments_lexer": "ipython3",
   "version": "3.8.11"
  }
 },
 "nbformat": 4,
 "nbformat_minor": 4
}
